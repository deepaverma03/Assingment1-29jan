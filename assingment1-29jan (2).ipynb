{
 "cells": [
  {
   "cell_type": "code",
   "execution_count": 1,
   "id": "39ac7392-51c1-4c21-9ef4-2a67bb5e0b5b",
   "metadata": {},
   "outputs": [],
   "source": [
    "#FIRST ASSIGNMENT 29JAN2023"
   ]
  },
  {
   "cell_type": "markdown",
   "id": "62f0f528-f3e0-49e2-a5cb-8179809fad64",
   "metadata": {},
   "source": [
    "Q1.Who developed pythan programming language?"
   ]
  },
  {
   "cell_type": "markdown",
   "id": "d2716ec5-a454-40a8-995c-947794db3016",
   "metadata": {},
   "source": [
    "A1.Python is a popular programming language. It was created by Guido van Rossum, and released in 1991."
   ]
  },
  {
   "cell_type": "markdown",
   "id": "f451c7b4-8c9c-44fe-8223-bee733605ba7",
   "metadata": {},
   "source": [
    "Q2.Which type of programming does pythan support?"
   ]
  },
  {
   "cell_type": "markdown",
   "id": "f596074b-4496-4a28-9545-ac6d53a7fc09",
   "metadata": {},
   "source": [
    "A2.Python is a multi-paradigm programming language. Object-oriented programming and structured programming are fully supported."
   ]
  },
  {
   "cell_type": "markdown",
   "id": "bf0b62f9-581c-4060-9200-99ac03f316dd",
   "metadata": {},
   "source": [
    "Q3.Is pythan case sensitive when dealing with identifiers?"
   ]
  },
  {
   "cell_type": "markdown",
   "id": "1764d3d0-168e-444f-b57a-0ec8e172e57b",
   "metadata": {},
   "source": [
    "A3.Yes, Python is a case-sensitive language, i.e., it treats uppercase and lowercase characters differently. This applies to identifiers too."
   ]
  },
  {
   "cell_type": "markdown",
   "id": "cca52923-d475-4b9b-a713-71c8a3ff2b15",
   "metadata": {},
   "source": [
    "Q4.What is the correct extension of the pythan file?"
   ]
  },
  {
   "cell_type": "markdown",
   "id": "04edbdd6-427e-4bf2-bd48-8972f38842f6",
   "metadata": {},
   "source": [
    "A4..py\n",
    "The correct extension of python is . py and can be written in any text editor. We need to use the extension . py to save these files."
   ]
  },
  {
   "cell_type": "markdown",
   "id": "e6fd4689-8f76-445f-83b5-7daa397c4066",
   "metadata": {},
   "source": [
    "Q5.Is pythan code complied or intrpreted?"
   ]
  },
  {
   "cell_type": "markdown",
   "id": "ff927147-efe2-45ae-b470-7382da117efa",
   "metadata": {},
   "source": [
    "A5.Python is both compiled as well as an interpreted language."
   ]
  },
  {
   "cell_type": "markdown",
   "id": "85228e50-b625-4217-8239-8e98a2e82de7",
   "metadata": {},
   "source": [
    "Q6.Name a few blocks of code used to define in pythan programming? "
   ]
  },
  {
   "cell_type": "markdown",
   "id": "836a6f7b-1ed3-429c-8765-c2a534fb22e2",
   "metadata": {},
   "source": [
    "A6.The following are blocks: a module, a function body, and a class definition ."
   ]
  },
  {
   "cell_type": "markdown",
   "id": "3cce49a6-cfcf-46ff-9706-5437791612b4",
   "metadata": {},
   "source": [
    "Q7.State a character used to give single line comments in pythan?"
   ]
  },
  {
   "cell_type": "markdown",
   "id": "703eadad-f03f-4cdf-91a2-a1f3ca5f6349",
   "metadata": {},
   "source": [
    "A7.# character- \n",
    "We can write a single-line comment by adding a single # character before any statement or line of code.\n",
    "for exp: #this is a single  line  comment."
   ]
  },
  {
   "cell_type": "markdown",
   "id": "8130e84a-8bbc-4135-bbc3-694fac894b94",
   "metadata": {},
   "source": [
    "Q8.Mention functions which can help us to find the version pf pythan that we are  currently working for? "
   ]
  },
  {
   "cell_type": "code",
   "execution_count": null,
   "id": "8748c053-1e3f-4ede-aad4-f055eb7a9978",
   "metadata": {},
   "outputs": [],
   "source": [
    "A8.the following function are:\n",
    "1)Using sys.version method\n",
    "2)Using python_version() function\n",
    "3)Using Python -V command"
   ]
  },
  {
   "cell_type": "markdown",
   "id": "6d0bb8bb-43af-4853-b9e1-7d636616f62f",
   "metadata": {},
   "source": [
    "Q9.Pythan supports the creations of anonymous functions at runtime,using a contsruct called?"
   ]
  },
  {
   "cell_type": "markdown",
   "id": "5a75fedc-e768-4d5b-899e-ac8d9d32d7b1",
   "metadata": {},
   "source": [
    "A9.Python supports to make anonymous functions which are not bound to a name(@ runtime). It uses a construct called \"lambda\" ."
   ]
  },
  {
   "cell_type": "markdown",
   "id": "29290333-00e9-4b88-8637-65075c8b253c",
   "metadata": {},
   "source": [
    "Q10.What does pip stands for pythan?"
   ]
  },
  {
   "cell_type": "markdown",
   "id": "e3258b04-6136-482f-afb1-5ddcaa86b7aa",
   "metadata": {},
   "source": [
    "A10. pip stands for \"preferred installer program\". "
   ]
  },
  {
   "cell_type": "markdown",
   "id": "e86e69dd-2e9c-4a50-917b-dfc72e4b5a38",
   "metadata": {},
   "source": [
    "Q11.Mention a few built in function in pythan?"
   ]
  },
  {
   "cell_type": "code",
   "execution_count": null,
   "id": "85818912-802f-44c7-996b-bf16b95a1dd8",
   "metadata": {},
   "outputs": [],
   "source": [
    "A11.Python Built-in Functions\n",
    "print( ) function.\n",
    "type( ) function.\n",
    "input( ) function.\n",
    "abs( ) function.\n",
    "pow( ) function.\n",
    "dir( ) function.\n",
    "sorted( ) function.\n",
    "max( ) function."
   ]
  },
  {
   "cell_type": "markdown",
   "id": "725b2d84-e420-45f5-b190-f173a18223f2",
   "metadata": {},
   "source": [
    "Q12.What is the maxmimum possible lenght of an identifier in pythan?"
   ]
  },
  {
   "cell_type": "markdown",
   "id": "e11a57a1-ef99-4a7f-8611-c8f0e7720ada",
   "metadata": {},
   "source": [
    "A12. An identifier can have a maximum length of 79 characters in Python."
   ]
  },
  {
   "cell_type": "markdown",
   "id": "709acae1-8fbe-4289-8edf-1b8358aca484",
   "metadata": {},
   "source": [
    "Q13.What are the benefits of using pythan?"
   ]
  },
  {
   "cell_type": "code",
   "execution_count": null,
   "id": "9953bdbe-5479-4b16-901c-a56abe7f4651",
   "metadata": {},
   "outputs": [],
   "source": [
    "A13.Benefits of pythan language are:\n",
    "1)Easy-to-learn and Easy-to-use\n",
    "2)Improves Productivity\n",
    "3)Interpreted Language\n",
    "4)Open-source\n",
    "5)Easily Portable\n",
    "6)Massive Libraries\n",
    "7)Easy-to-integrate with Other Programming Languages\n",
    "\n"
   ]
  },
  {
   "cell_type": "code",
   "execution_count": null,
   "id": "8292c5a5-8a46-46bb-83db-225b4c5e2b26",
   "metadata": {},
   "outputs": [],
   "source": [
    "Q14.How is memory managed in pythan?"
   ]
  },
  {
   "cell_type": "markdown",
   "id": "ce8f1874-d946-44b0-bce4-65f2c1807111",
   "metadata": {},
   "source": [
    "A14.Memory in Python is managed by Python private heap space. All Python objects and data structures are located in a private heap."
   ]
  },
  {
   "cell_type": "markdown",
   "id": "b4956af9-9468-46aa-bc7b-c9a5cd4750bc",
   "metadata": {},
   "source": [
    "Q15.How to install pythan on windows and set path variable?"
   ]
  },
  {
   "cell_type": "markdown",
   "id": "2ed65529-0a31-4c2a-ad87-7210505389d6",
   "metadata": {},
   "source": [
    "A15.Install python from this link https://www.python.org/downloads/\n",
    "After this, install it on your PC. Look for the location where PYTHON has been installed on your PC using the following command on your command prompt: cmd python.\n",
    "Then go to advanced system settings and add new variable and name it as PYTHON_NAME and paste the copied path.\n",
    "Then look for the path variable, select it's value and select edit\n",
    "Add a semicolon towards the end of the value if it's not present and then type %PYTHON_HOME%"
   ]
  },
  {
   "cell_type": "markdown",
   "id": "16ff1913-967c-4ccf-959b-bd47555f1adb",
   "metadata": {},
   "source": [
    "Q16.Is indentation required in pythan?"
   ]
  },
  {
   "cell_type": "markdown",
   "id": "4f097234-f6d1-4a67-b815-c8baec9657c9",
   "metadata": {},
   "source": [
    "A16.YES ,Python uses indentation to indicate a block of code."
   ]
  }
 ],
 "metadata": {
  "kernelspec": {
   "display_name": "Python 3 (ipykernel)",
   "language": "python",
   "name": "python3"
  },
  "language_info": {
   "codemirror_mode": {
    "name": "ipython",
    "version": 3
   },
   "file_extension": ".py",
   "mimetype": "text/x-python",
   "name": "python",
   "nbconvert_exporter": "python",
   "pygments_lexer": "ipython3",
   "version": "3.10.8"
  }
 },
 "nbformat": 4,
 "nbformat_minor": 5
}
